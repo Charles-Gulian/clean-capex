{
 "cells": [
  {
   "cell_type": "code",
   "execution_count": 2,
   "id": "1cd2d9a9-9f8c-4d7d-a194-8cd5e82681b9",
   "metadata": {},
   "outputs": [],
   "source": [
    "import pandas as pd\n",
    "import numpy as np\n",
    "import pyomo.environ as pyo\n",
    "import pathlib\n",
    "\n",
    "curr_dir = pathlib.Path(\".\")"
   ]
  },
  {
   "cell_type": "markdown",
   "id": "60c7f9e6-a482-48a6-a45f-51223dcb0a8c",
   "metadata": {},
   "source": [
    "### Problem Formulation\n",
    "\n",
    "We wish to minimize total investment and generation costs, subject to an emissions constraint. We are allowed to build solar, wind, storage, and gas generation.\n",
    "\n",
    "We need data for solar, wind, storage, and gas investment costs. We assume that solar, wind, and storage have 0 generation and emissions costs, while gas has positive generation and emissions costs.\n",
    "\n",
    "Therefore, we don't need most of the data already gathered, except to create solar/wind profiles and a load profile. We still need to gather cost data and emissions rate data for candidate resources."
   ]
  },
  {
   "cell_type": "code",
   "execution_count": 16,
   "id": "8628782c-62ae-4892-a28a-059ef855e7f7",
   "metadata": {},
   "outputs": [],
   "source": [
    "# Pyomo model\n",
    "m = pyo.ConcreteModel()\n",
    "\n",
    "# Sets\n",
    "m.times = pyo.Set(df_data.index)\n",
    "m.resources = pyo.Set([\"solar\", \"wind\", \"storage\", \"gas\"])\n",
    "\n",
    "# Variables\n",
    "m.x = pyo.Var(m.resources, within=pyo.NonNegativeReals)\n",
    "m.y = pyo.Var(m.resources, m.times)"
   ]
  },
  {
   "cell_type": "code",
   "execution_count": null,
   "id": "ea4737c2-c7fb-4cb7-a974-eeec2e0b4e5f",
   "metadata": {},
   "outputs": [],
   "source": []
  }
 ],
 "metadata": {
  "kernelspec": {
   "display_name": "Python 3 (ipykernel)",
   "language": "python",
   "name": "python3"
  },
  "language_info": {
   "codemirror_mode": {
    "name": "ipython",
    "version": 3
   },
   "file_extension": ".py",
   "mimetype": "text/x-python",
   "name": "python",
   "nbconvert_exporter": "python",
   "pygments_lexer": "ipython3",
   "version": "3.11.0"
  }
 },
 "nbformat": 4,
 "nbformat_minor": 5
}
